{
 "cells": [
  {
   "cell_type": "markdown",
   "metadata": {},
   "source": [
    "# Live Project: Movie Ticket Booking System Replica"
   ]
  },
  {
   "cell_type": "markdown",
   "metadata": {},
   "source": [
    "## Project Requirements: [Book My Show Application](https://docs.google.com/presentation/d/1Zg01F8WO-VLpwH5DeOGJMKcWY0j4DoR-0QbYlgbVrTU/edit?usp=sharing)"
   ]
  },
  {
   "cell_type": "markdown",
   "metadata": {},
   "source": [
    "1. Movie Room Info (No of seats avaliable)\n",
    "2. Options to user\n",
    "  - Show the seats\n",
    "  - Buy a Ticket\n",
    "  - Statistics\n",
    "  - Show booked Tickets User Info\n",
    "  - Exit\n",
    "3. Conditions\n",
    "    - Ticket cost according to size of theater `(< 60 seats then 10$ and if > 60 seats then 8/10$)`\n",
    "    - Seat is Reserved then Show **B** else **S**\n"
   ]
  },
  {
   "cell_type": "code",
   "execution_count": 5,
   "metadata": {},
   "outputs": [
    {
     "name": "stdout",
     "output_type": "stream",
     "text": [
      "How many rows avaliable in theater5\n",
      "How many columns avaliable in theater5\n",
      "1. Show the seats\n",
      "2. Buy a Ticket\n",
      "3. Statistics\n",
      "4. Show booked Tickets User Info\n",
      "0. Exit\n",
      "5\n",
      "Enter a valid Option\n",
      "1. Show the seats\n",
      "2. Buy a Ticket\n",
      "3. Statistics\n",
      "4. Show booked Tickets User Info\n",
      "0. Exit\n",
      "45\n",
      "Enter a valid Option\n",
      "1. Show the seats\n",
      "2. Buy a Ticket\n",
      "3. Statistics\n",
      "4. Show booked Tickets User Info\n",
      "0. Exit\n",
      "0\n"
     ]
    }
   ],
   "source": [
    "class TicketInfo:\n",
    "    def __init__(self):\n",
    "        pass\n",
    "    \n",
    "    def options(self, option):\n",
    "        if option == 1:\n",
    "            self.show_seats()\n",
    "            \n",
    "        elif option == 2:\n",
    "            self.buy_ticket()\n",
    "            \n",
    "        elif option == 3:\n",
    "            self.statistics()\n",
    "            \n",
    "        elif option == 4:\n",
    "            self.user_info()\n",
    "        else:\n",
    "            print('Enter a valid Option')\n",
    "            \n",
    "            \n",
    "    def show_seats(self):\n",
    "        pass\n",
    "    def buy_ticket(self):\n",
    "        pass\n",
    "    def statistics(self):\n",
    "        pass\n",
    "    def user_info(self):\n",
    "        pass\n",
    "    \n",
    "opt = \"\"\"1. Show the seats\n",
    "2. Buy a Ticket\n",
    "3. Statistics\n",
    "4. Show booked Tickets User Info\n",
    "0. Exit\\n\"\"\"\n",
    "\n",
    "\n",
    "\n",
    "row = int(input('How many rows avaliable in theater'))\n",
    "col = int(input('How many columns avaliable in theater'))\n",
    "Admin = TicketInfo()\n",
    "while True:\n",
    "    user_option = int(input(opt))\n",
    "    if user_option == 0:\n",
    "        break\n",
    "    else:\n",
    "        Admin.options(user_option)"
   ]
  }
 ],
 "metadata": {
  "kernelspec": {
   "display_name": "Python 3",
   "language": "python",
   "name": "python3"
  },
  "language_info": {
   "codemirror_mode": {
    "name": "ipython",
    "version": 3
   },
   "file_extension": ".py",
   "mimetype": "text/x-python",
   "name": "python",
   "nbconvert_exporter": "python",
   "pygments_lexer": "ipython3",
   "version": "3.8.3"
  }
 },
 "nbformat": 4,
 "nbformat_minor": 4
}
