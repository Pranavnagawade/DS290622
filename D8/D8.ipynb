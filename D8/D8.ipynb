{
 "cells": [
  {
   "cell_type": "code",
   "execution_count": 1,
   "metadata": {},
   "outputs": [],
   "source": [
    " di ={1: 'abc', 2:'def'}"
   ]
  },
  {
   "cell_type": "code",
   "execution_count": 3,
   "metadata": {},
   "outputs": [
    {
     "data": {
      "text/plain": [
       "dict_keys([1, 2])"
      ]
     },
     "execution_count": 3,
     "metadata": {},
     "output_type": "execute_result"
    }
   ],
   "source": [
    "di.keys()"
   ]
  },
  {
   "cell_type": "code",
   "execution_count": 4,
   "metadata": {},
   "outputs": [
    {
     "data": {
      "text/plain": [
       "True"
      ]
     },
     "execution_count": 4,
     "metadata": {},
     "output_type": "execute_result"
    }
   ],
   "source": [
    "1 in di.keys()"
   ]
  },
  {
   "cell_type": "code",
   "execution_count": 6,
   "metadata": {},
   "outputs": [
    {
     "data": {
      "text/plain": [
       "'11'"
      ]
     },
     "execution_count": 6,
     "metadata": {},
     "output_type": "execute_result"
    }
   ],
   "source": [
    "str(1) + str(1)"
   ]
  },
  {
   "cell_type": "code",
   "execution_count": null,
   "metadata": {},
   "outputs": [],
   "source": [
    "di['11'] == "
   ]
  },
  {
   "cell_type": "markdown",
   "metadata": {},
   "source": [
    "0 -> 1 2 3 4 5 6 7\n",
    "|\n",
    "1\n",
    "2\n",
    "3\n",
    "4\n",
    "5\n"
   ]
  },
  {
   "cell_type": "markdown",
   "metadata": {},
   "source": [
    "## Edyoda Application\n",
    "\n",
    "- Home\n",
    "    - Greeting from Edyoda\n",
    "    - Today Session Details\n",
    "    - Upcomming Assignments\n",
    "    - Over all grade\n",
    "    - Attendance\n",
    "    - Completed/Upcomming Modules\n",
    "    \n",
    "- Modules with different topics\n",
    "    - All modules of particular track\n",
    "- Certification and performance\n",
    "    - Based on submitted assignments\n",
    "- Batch mates\n",
    "    - Profile of Batchmate within the batch\n",
    "- Submissions\n",
    "    - based on submitted assignments\n",
    "- Instructors\n",
    "    - Instructor Profile based on module assigned\n",
    "- Profile\n",
    "    - Name\n",
    "    - Contact Num\n",
    "    - Email\n",
    "    - Address\n",
    "    - Skills\n",
    "    - Education\n",
    "    - Experience\n",
    "    - Achivements\n",
    "    - Interests\n",
    "    - Social Media (Github/ Linkedin)\n",
    "- Job Profile\n",
    "     - Company \n",
    "     - Experience\n",
    "     - Resume\n",
    "     - Current Position\n",
    "- Refer and Earn \n",
    "- Chatbot"
   ]
  },
  {
   "cell_type": "markdown",
   "metadata": {},
   "source": [
    "- Admin\n",
    "    - profile Details"
   ]
  },
  {
   "cell_type": "code",
   "execution_count": 36,
   "metadata": {},
   "outputs": [],
   "source": [
    "import random\n",
    "\n",
    "class Admin:\n",
    "    list_of_students = []\n",
    "    def __init__(self):\n",
    "        self.batch_details = {}\n",
    "        self.students = {}\n",
    "        self.instructors = {}\n",
    "        self.module = {}\n",
    "        \n",
    "#     def add_module(self):\n",
    "        \n",
    "    \n",
    "    \n",
    "    def student_details(self):\n",
    "        batch_size = int(input(\"How many students need to enroll in a batch: \"))\n",
    "        \n",
    "        for i in range(batch_size):\n",
    "            s_id = random.randint(1, 1000) + random.randint(1, 1000)\n",
    "        \n",
    "            std_id = 'Edyoda' + str(s_id)\n",
    "            \n",
    "            print(\"Enter details for the student with id\", std_id)\n",
    "            name = input('Enter Student name: ')\n",
    "            gender = input('Enter student gender')\n",
    "            email_id = input('Enter email of the student')\n",
    "            mobile = input('Enter student mobile number')\n",
    "            experience = input('Enter student experience')\n",
    "            student = student_details(std_id, name, gender, email_id, mobile, experience)\n",
    "            Admin.list_of_students.append(student)\n",
    "            \n",
    "    def valid_email(self, email):\n",
    "        pass"
   ]
  },
  {
   "cell_type": "code",
   "execution_count": 7,
   "metadata": {},
   "outputs": [],
   "source": [
    "import random"
   ]
  },
  {
   "cell_type": "code",
   "execution_count": 35,
   "metadata": {},
   "outputs": [
    {
     "name": "stdout",
     "output_type": "stream",
     "text": [
      "26\n",
      "87\n",
      "97\n",
      "64\n",
      "28\n",
      "92\n",
      "39\n",
      "34\n",
      "1\n",
      "44\n"
     ]
    }
   ],
   "source": [
    "for i in range(10):\n",
    "    print(random.randint(1, 100))"
   ]
  },
  {
   "cell_type": "code",
   "execution_count": 37,
   "metadata": {},
   "outputs": [],
   "source": [
    "class student_details:\n",
    "    def __init__(self, std_id, name, gender, email_id, mobile, experience):\n",
    "        self.std_id = std_id\n",
    "        self.name = name\n",
    "        self.gender = gender\n",
    "        self.email = email_id\n",
    "        self.mobile = mobile\n",
    "        self.experience = experience\n",
    "    def get_name(self):\n",
    "        return self.name\n",
    "    \n",
    "    def set_name(self, name):\n",
    "        self.name = name\n",
    "        \n",
    "    def get_gender(self):\n",
    "        return self.gender\n",
    "    \n",
    "    def set_gender(self, gender):\n",
    "        self.gender = gender\n",
    "    \n",
    "    def get_mobile(self):\n",
    "        return self.mobile\n",
    "    \n",
    "    def set_mobile(self, mobile):\n",
    "        self.mobile = mobile\n",
    "        \n",
    "    def get_email(self):\n",
    "        return self.email\n",
    "    \n",
    "    def get_experience(self):\n",
    "        return self.experience\n",
    "    \n",
    "    def set_experience(self, experience):\n",
    "        self.experience = experience\n",
    "        \n",
    "    def __str__(self):\n",
    "        return 'Name: {} \\n Gender: {} \\n email: {} \\n Experience: {}'.format(self.name, self.gender, self.email, self.experience)\n",
    "\n",
    "class instructor_details:\n",
    "    pass\n",
    "\n",
    "class modules:\n",
    "    pass\n",
    "\n",
    "class batch_details:\n",
    "    pass\n"
   ]
  },
  {
   "cell_type": "code",
   "execution_count": 38,
   "metadata": {},
   "outputs": [],
   "source": [
    "DS290622 = Admin()"
   ]
  },
  {
   "cell_type": "code",
   "execution_count": 39,
   "metadata": {},
   "outputs": [
    {
     "name": "stdout",
     "output_type": "stream",
     "text": [
      "How many students need to enroll in a batch: 2\n",
      "Enter details for the student with id Edyoda1416\n",
      "Enter Student name: Rakesh Kumar\n",
      "Enter student genderMale\n",
      "Enter email of the studentrakesh@gmail.com\n",
      "Enter student mobile number9876543210\n",
      "Enter student experience3 Yrs\n",
      "Enter details for the student with id Edyoda1416\n",
      "Enter Student name: Akash Patil\n",
      "Enter student genderMale\n",
      "Enter email of the studentAkash@gmail.com\n",
      "Enter student mobile number1236547890\n",
      "Enter student experience2.5\n"
     ]
    }
   ],
   "source": [
    "DS290622.student_details()"
   ]
  },
  {
   "cell_type": "code",
   "execution_count": 49,
   "metadata": {},
   "outputs": [],
   "source": [
    "stds = Admin.list_of_students"
   ]
  },
  {
   "cell_type": "code",
   "execution_count": 51,
   "metadata": {},
   "outputs": [
    {
     "data": {
      "text/plain": [
       "'Rakesh Kumar'"
      ]
     },
     "execution_count": 51,
     "metadata": {},
     "output_type": "execute_result"
    }
   ],
   "source": [
    "stds[0].get_name()"
   ]
  },
  {
   "cell_type": "code",
   "execution_count": 43,
   "metadata": {},
   "outputs": [
    {
     "data": {
      "text/plain": [
       "'rakesh@gmail.com'"
      ]
     },
     "execution_count": 43,
     "metadata": {},
     "output_type": "execute_result"
    }
   ],
   "source": [
    "Admin.list_of_students[0].get_email()"
   ]
  },
  {
   "cell_type": "code",
   "execution_count": 44,
   "metadata": {},
   "outputs": [
    {
     "data": {
      "text/plain": [
       "'9876543210'"
      ]
     },
     "execution_count": 44,
     "metadata": {},
     "output_type": "execute_result"
    }
   ],
   "source": [
    "Admin.list_of_students[0].get_mobile()"
   ]
  },
  {
   "cell_type": "code",
   "execution_count": 45,
   "metadata": {},
   "outputs": [],
   "source": [
    "Admin.list_of_students[0].set_mobile('9876543211')"
   ]
  },
  {
   "cell_type": "code",
   "execution_count": 46,
   "metadata": {},
   "outputs": [
    {
     "data": {
      "text/plain": [
       "'9876543211'"
      ]
     },
     "execution_count": 46,
     "metadata": {},
     "output_type": "execute_result"
    }
   ],
   "source": [
    "Admin.list_of_students[0].get_mobile()"
   ]
  },
  {
   "cell_type": "code",
   "execution_count": 47,
   "metadata": {},
   "outputs": [
    {
     "data": {
      "text/plain": [
       "('rakesh@gmail.com', '9876543211')"
      ]
     },
     "execution_count": 47,
     "metadata": {},
     "output_type": "execute_result"
    }
   ],
   "source": [
    "Admin.list_of_students[0].get_email(), Admin.list_of_students[0].get_mobile()"
   ]
  },
  {
   "cell_type": "code",
   "execution_count": 52,
   "metadata": {},
   "outputs": [
    {
     "data": {
      "text/plain": [
       "'Akash Patil'"
      ]
     },
     "execution_count": 52,
     "metadata": {},
     "output_type": "execute_result"
    }
   ],
   "source": [
    "stds[1].get_name()"
   ]
  },
  {
   "cell_type": "code",
   "execution_count": null,
   "metadata": {},
   "outputs": [],
   "source": []
  }
 ],
 "metadata": {
  "kernelspec": {
   "display_name": "Python 3",
   "language": "python",
   "name": "python3"
  },
  "language_info": {
   "codemirror_mode": {
    "name": "ipython",
    "version": 3
   },
   "file_extension": ".py",
   "mimetype": "text/x-python",
   "name": "python",
   "nbconvert_exporter": "python",
   "pygments_lexer": "ipython3",
   "version": "3.8.3"
  }
 },
 "nbformat": 4,
 "nbformat_minor": 4
}
